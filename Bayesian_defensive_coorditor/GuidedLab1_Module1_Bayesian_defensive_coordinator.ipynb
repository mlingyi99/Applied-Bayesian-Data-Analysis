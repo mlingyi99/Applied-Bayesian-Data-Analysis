{
 "cells": [
  {
   "cell_type": "markdown",
   "metadata": {
    "deletable": false,
    "editable": false,
    "id": "WORyNXg5AtHG",
    "nbgrader": {
     "cell_type": "markdown",
     "checksum": "9dc79c4bda471d412d6276514304b262",
     "grade": false,
     "grade_id": "cell-25ac58a8ba57b3b8",
     "locked": true,
     "schema_version": 3,
     "solution": false,
     "task": false
    }
   },
   "source": [
    "You are the analytics director for Pitt football. Pitt is on defense facing a 2nd and 2. The defensive coordinator wants to put a coverage for the most probable play of the offense (i.e., pass -vs - run) and he asks for your help. You have collected data for the season tendencies of the opponent. The data include 3 columns:\n",
    "\n",
    "*   Pass: 1 if the play was a pass and 0 otherwise\n",
    "*   YardsToGo: how many yards the offense needs for a first down\n",
    "*   Down: the down count of the play\n",
    "\n",
    "Use these data to estimate the probability of a pass or a run for the offense in their current play (2nd down and 2 yards to go).\n",
    "\n",
    "**Hint**: Consider the situation at hand (2nd and 2) as a more general situation of *second and short*, where the short represents situations with 4 or less yards to go. This will allow for more robust estimation, since coaches typically consider short, medium and long yardage to go instead of differentiating between 3 and 4 yards.\n",
    "\n"
   ]
  },
  {
   "cell_type": "code",
   "execution_count": null,
   "metadata": {},
   "outputs": [],
   "source": []
  },
  {
   "cell_type": "code",
   "execution_count": 1,
   "metadata": {
    "colab": {
     "base_uri": "https://localhost:8080/",
     "height": 442
    },
    "deletable": false,
    "editable": false,
    "id": "fEVxK4yNDjDy",
    "nbgrader": {
     "cell_type": "code",
     "checksum": "6cd2f010a6ffd417fca10f6de1a20193",
     "grade": false,
     "grade_id": "cell-fc76e76ee7144e89",
     "locked": true,
     "schema_version": 3,
     "solution": false,
     "task": false
    },
    "outputId": "f92b8865-4c2e-4004-f6be-7ee0fb1cccac"
   },
   "outputs": [
    {
     "data": {
      "text/html": [
       "<div>\n",
       "<style scoped>\n",
       "    .dataframe tbody tr th:only-of-type {\n",
       "        vertical-align: middle;\n",
       "    }\n",
       "\n",
       "    .dataframe tbody tr th {\n",
       "        vertical-align: top;\n",
       "    }\n",
       "\n",
       "    .dataframe thead th {\n",
       "        text-align: right;\n",
       "    }\n",
       "</style>\n",
       "<table border=\"1\" class=\"dataframe\">\n",
       "  <thead>\n",
       "    <tr style=\"text-align: right;\">\n",
       "      <th></th>\n",
       "      <th>Pass</th>\n",
       "      <th>YardsToGo</th>\n",
       "      <th>Down</th>\n",
       "    </tr>\n",
       "  </thead>\n",
       "  <tbody>\n",
       "    <tr>\n",
       "      <th>0</th>\n",
       "      <td>1</td>\n",
       "      <td>10</td>\n",
       "      <td>1</td>\n",
       "    </tr>\n",
       "    <tr>\n",
       "      <th>1</th>\n",
       "      <td>1</td>\n",
       "      <td>10</td>\n",
       "      <td>1</td>\n",
       "    </tr>\n",
       "    <tr>\n",
       "      <th>2</th>\n",
       "      <td>1</td>\n",
       "      <td>10</td>\n",
       "      <td>1</td>\n",
       "    </tr>\n",
       "    <tr>\n",
       "      <th>3</th>\n",
       "      <td>1</td>\n",
       "      <td>10</td>\n",
       "      <td>2</td>\n",
       "    </tr>\n",
       "    <tr>\n",
       "      <th>4</th>\n",
       "      <td>0</td>\n",
       "      <td>10</td>\n",
       "      <td>3</td>\n",
       "    </tr>\n",
       "    <tr>\n",
       "      <th>...</th>\n",
       "      <td>...</td>\n",
       "      <td>...</td>\n",
       "      <td>...</td>\n",
       "    </tr>\n",
       "    <tr>\n",
       "      <th>1020</th>\n",
       "      <td>0</td>\n",
       "      <td>14</td>\n",
       "      <td>3</td>\n",
       "    </tr>\n",
       "    <tr>\n",
       "      <th>1021</th>\n",
       "      <td>1</td>\n",
       "      <td>10</td>\n",
       "      <td>1</td>\n",
       "    </tr>\n",
       "    <tr>\n",
       "      <th>1022</th>\n",
       "      <td>1</td>\n",
       "      <td>10</td>\n",
       "      <td>2</td>\n",
       "    </tr>\n",
       "    <tr>\n",
       "      <th>1023</th>\n",
       "      <td>1</td>\n",
       "      <td>4</td>\n",
       "      <td>3</td>\n",
       "    </tr>\n",
       "    <tr>\n",
       "      <th>1024</th>\n",
       "      <td>1</td>\n",
       "      <td>4</td>\n",
       "      <td>4</td>\n",
       "    </tr>\n",
       "  </tbody>\n",
       "</table>\n",
       "<p>1025 rows × 3 columns</p>\n",
       "</div>"
      ],
      "text/plain": [
       "      Pass  YardsToGo  Down\n",
       "0        1         10     1\n",
       "1        1         10     1\n",
       "2        1         10     1\n",
       "3        1         10     2\n",
       "4        0         10     3\n",
       "...    ...        ...   ...\n",
       "1020     0         14     3\n",
       "1021     1         10     1\n",
       "1022     1         10     2\n",
       "1023     1          4     3\n",
       "1024     1          4     4\n",
       "\n",
       "[1025 rows x 3 columns]"
      ]
     },
     "execution_count": 1,
     "metadata": {},
     "output_type": "execute_result"
    }
   ],
   "source": [
    "import pandas as pd\n",
    "df = pd.read_csv(\"Bayesian_defensive_coordinator.csv\")\n",
    "df"
   ]
  },
  {
   "cell_type": "code",
   "execution_count": null,
   "metadata": {},
   "outputs": [],
   "source": []
  },
  {
   "cell_type": "markdown",
   "metadata": {
    "deletable": false,
    "editable": false,
    "id": "anluZJ88FfLX",
    "nbgrader": {
     "cell_type": "markdown",
     "checksum": "7e0d62ebb8fd1aeddc41ffb486d38c4e",
     "grade": false,
     "grade_id": "cell-760a1d219fa6d16e",
     "locked": true,
     "schema_version": 3,
     "solution": false,
     "task": false
    }
   },
   "source": [
    "In the following cell we are going to start our calculation by estimating from the data the prior belief, $\\Pr[pass]$, they give us on the offense passing."
   ]
  },
  {
   "cell_type": "code",
   "execution_count": 2,
   "metadata": {
    "colab": {
     "base_uri": "https://localhost:8080/"
    },
    "id": "g7-eGlsnECmM",
    "outputId": "50f56187-051d-4a8d-9495-0c31a33dffa9"
   },
   "outputs": [
    {
     "name": "stdout",
     "output_type": "stream",
     "text": [
      "Pr[pass] = 0.596\n"
     ]
    }
   ],
   "source": [
    "# estimate from the data the prior belief of offense passing the ball Pr[pass]\n",
    "\n",
    "p_pass_prior = df['Pass'].mean()\n",
    "print(f\"Pr[pass] = {p_pass_prior:.3f}\")"
   ]
  },
  {
   "cell_type": "markdown",
   "metadata": {
    "deletable": false,
    "editable": false,
    "id": "xn7bNwLnE2wZ",
    "nbgrader": {
     "cell_type": "markdown",
     "checksum": "1ecb528002a42e1cb8190fcfa0a9fd76",
     "grade": false,
     "grade_id": "cell-a39d6addeb52b4f5",
     "locked": true,
     "schema_version": 3,
     "solution": false,
     "task": false
    }
   },
   "source": [
    "In the following cell we are going to calculate the conditional probability of the situation given the evidence; $\\Pr[2nd\\&short|pass]$."
   ]
  },
  {
   "cell_type": "code",
   "execution_count": 3,
   "metadata": {
    "colab": {
     "base_uri": "https://localhost:8080/"
    },
    "id": "hzcCeXKUERlU",
    "outputId": "387ead85-14f9-4802-e073-1445d175145e"
   },
   "outputs": [
    {
     "name": "stdout",
     "output_type": "stream",
     "text": [
      "Pr[2nd and short | pass] = 0.056\n"
     ]
    }
   ],
   "source": [
    "# estimate the \"evidence\", i.e., Pr[2nd and short | pass]\n",
    "# create a new column that indicates whether the data in the row fall under the 2nd and short situation\n",
    "\n",
    "df['2nd_and_short'] = (df['Down'] == 2) & (df['YardsToGo'] <= 4).astype(int)\n",
    "pr_evidence = df[df['Pass'] == 1]['2nd_and_short'].mean()\n",
    "print(f\"Pr[2nd and short | pass] = {pr_evidence:.3f}\")"
   ]
  },
  {
   "cell_type": "markdown",
   "metadata": {
    "deletable": false,
    "editable": false,
    "id": "XUxVBqdoFKJo",
    "nbgrader": {
     "cell_type": "markdown",
     "checksum": "fc60b1ee7e5cb68f2afbfb432388864b",
     "grade": false,
     "grade_id": "cell-23063c458790431a",
     "locked": true,
     "schema_version": 3,
     "solution": false,
     "task": false
    }
   },
   "source": [
    "In the following cell we are going to calculate the total probability of the evidence; $\\Pr[2nd\\&short]$."
   ]
  },
  {
   "cell_type": "code",
   "execution_count": 4,
   "metadata": {
    "colab": {
     "base_uri": "https://localhost:8080/"
    },
    "id": "OlcYkUFCErlr",
    "outputId": "bffff01f-85d8-4fc6-c6f4-e74d9fe8176a"
   },
   "outputs": [
    {
     "name": "stdout",
     "output_type": "stream",
     "text": [
      "Pr[2nd and short] = 0.075\n"
     ]
    }
   ],
   "source": [
    "# estimate the total probability of the \"evidence'\", i.e., Pr[2nd and short]\n",
    "\n",
    "p_total_evidence = df['2nd_and_short'].mean()\n",
    "print(f\"Pr[2nd and short] = {p_total_evidence:.3f}\")"
   ]
  },
  {
   "cell_type": "markdown",
   "metadata": {
    "deletable": false,
    "editable": false,
    "id": "Ih4cfW4ZFOHB",
    "nbgrader": {
     "cell_type": "markdown",
     "checksum": "49caf03b97c48165301c1f7129490437",
     "grade": false,
     "grade_id": "cell-c6c04446da04701c",
     "locked": true,
     "schema_version": 3,
     "solution": false,
     "task": false
    }
   },
   "source": [
    "We will now use the Bayes theorem to estimate the probability of the offense passing the ball in a 2nd and short situation as: $\\Pr[pass|2nd\\&short] = \\dfrac{Pr[2nd\\&short|pass]\\cdot Pr[pass]}{Pr[2nd\\&short]}$"
   ]
  },
  {
   "cell_type": "code",
   "execution_count": 5,
   "metadata": {
    "colab": {
     "base_uri": "https://localhost:8080/"
    },
    "id": "W5O5DuyRFB1n",
    "outputId": "a1bbb76a-82bd-4443-fd74-75a24bc594ac"
   },
   "outputs": [
    {
     "name": "stdout",
     "output_type": "stream",
     "text": [
      "Pr[pass | 2nd and short] = 0.442\n"
     ]
    }
   ],
   "source": [
    "# estimate the conditional probability Pr[pass| 2nd and short] using Bayes theorem\n",
    "\n",
    "p = (pr_evidence * p_pass_prior) / p_total_evidence\n",
    "print(f\"Pr[pass | 2nd and short] = {p:.3f}\")"
   ]
  },
  {
   "cell_type": "markdown",
   "metadata": {
    "deletable": false,
    "editable": false,
    "id": "FirCSupnFllg",
    "nbgrader": {
     "cell_type": "markdown",
     "checksum": "06f7efd835d41d1a2398c940ee80161b",
     "grade": false,
     "grade_id": "cell-a82dbb83cb73bcd2",
     "locked": true,
     "schema_version": 3,
     "solution": false,
     "task": false
    }
   },
   "source": [
    "You can practise more situations for yourself. E.g., what is the probability the offense runs the ball on a 3rd and 10 (falling under a 3rd and *long* situation, where *long* is considered 7 or more yards to go). You can also compare the results with those if you did not group the yards in short, medium, long, but rather used the exact yardage needed."
   ]
  },
  {
   "cell_type": "code",
   "execution_count": null,
   "metadata": {},
   "outputs": [],
   "source": []
  }
 ],
 "metadata": {
  "colab": {
   "provenance": []
  },
  "kernelspec": {
   "display_name": "Python 3 (ipykernel)",
   "language": "python",
   "name": "python3"
  },
  "language_info": {
   "codemirror_mode": {
    "name": "ipython",
    "version": 3
   },
   "file_extension": ".py",
   "mimetype": "text/x-python",
   "name": "python",
   "nbconvert_exporter": "python",
   "pygments_lexer": "ipython3",
   "version": "3.10.6"
  }
 },
 "nbformat": 4,
 "nbformat_minor": 1
}
